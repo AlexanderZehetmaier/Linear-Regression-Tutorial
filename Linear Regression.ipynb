{
 "cells": [
  {
   "cell_type": "markdown",
   "metadata": {},
   "source": [
    "# Linear Regression from Scratch\n",
    "## Table of Contents\n",
    "* Learn Steepness m but NOT Bias b yet\n",
    "* Learn Steepness m AND Bias b\n",
    "* Learn Steepness m and Bias b WITH Vectorization\n",
    "* Compare Vectorized vs non-Vectorized"
   ]
  },
  {
   "cell_type": "code",
   "execution_count": 1,
   "metadata": {},
   "outputs": [],
   "source": [
    "# imports\n",
    "%matplotlib inline\n",
    "import numpy as np\n",
    "import matplotlib.pyplot as plt"
   ]
  },
  {
   "cell_type": "markdown",
   "metadata": {},
   "source": [
    "## 1. Learn Steepness m but NOT Bias b yet\n",
    "**Linear Function**\n",
    "$$k = m \\cdot x + b$$\n",
    "\n",
    "**For Simplicity no bias yet**\n",
    "$$k = m \\cdot x$$\n",
    "\n",
    "We choose a random value for the variable m below. In this case m=3 and defines the steepness of our linear function. We use this value to generate 100 noisy datapoints but we **DO NOT TELL** our Linear Regression model. The goal of the Regression Model is to figure out this value by itself."
   ]
  },
  {
   "cell_type": "code",
   "execution_count": 2,
   "metadata": {},
   "outputs": [],
   "source": [
    "m = 3 # the parameter we need to generate some test data and our Model will figure out without telling it "
   ]
  },
  {
   "cell_type": "code",
   "execution_count": 3,
   "metadata": {},
   "outputs": [],
   "source": [
    "# generate 100 random linear datapoints from x=-1 to x=1 --> the range(-1, 1)=2 and 2/0.02=100 datapoints\n",
    "x = np.arange(-1, 1, 0.02)\n",
    "noise = np.random.uniform(-1, 1, size=100)\n",
    "y = (m*x) + noise"
   ]
  },
  {
   "cell_type": "code",
   "execution_count": 4,
   "metadata": {},
   "outputs": [
    {
     "data": {
      "text/plain": [
       "<matplotlib.collections.PathCollection at 0x10ec1bcf8>"
      ]
     },
     "execution_count": 4,
     "metadata": {},
     "output_type": "execute_result"
    },
    {
     "data": {
      "image/png": "[encoded data removed]",
      "text/plain": [
       "<Figure size 432x288 with 1 Axes>"
      ]
     },
     "metadata": {
      "needs_background": "light"
     },
     "output_type": "display_data"
    }
   ],
   "source": [
    "plt.scatter(x, y)"
   ]
  },
  {
   "cell_type": "markdown",
   "metadata": {},
   "source": [
    "Random initialization (we choose -2) of our steepness parameter. This parameter gets updated in the direction of m with Gradient Descent (Algorithm in function: train_linear_function())"
   ]
  },
  {
   "cell_type": "code",
   "execution_count": 5,
   "metadata": {},
   "outputs": [],
   "source": [
    "w = -2 # random chosen value"
   ]
  },
  {
   "cell_type": "code",
   "execution_count": 6,
   "metadata": {},
   "outputs": [],
   "source": [
    "y_hat = w*x"
   ]
  },
  {
   "cell_type": "code",
   "execution_count": 7,
   "metadata": {},
   "outputs": [
    {
     "data": {
      "text/plain": [
       "<matplotlib.collections.PathCollection at 0x10ecc6a90>"
      ]
     },
     "execution_count": 7,
     "metadata": {},
     "output_type": "execute_result"
    },
    {
     "data": {
      "image/png": "[encoded data removed]",
      "text/plain": [
       "<Figure size 432x288 with 1 Axes>"
      ]
     },
     "metadata": {
      "needs_background": "light"
     },
     "output_type": "display_data"
    }
   ],
   "source": [
    "plt.scatter(x, y_hat, color='red')"
   ]
  },
  {
   "cell_type": "code",
   "execution_count": 8,
   "metadata": {},
   "outputs": [
    {
     "data": {
      "text/plain": [
       "<matplotlib.collections.PathCollection at 0x10ecc6f28>"
      ]
     },
     "execution_count": 8,
     "metadata": {},
     "output_type": "execute_result"
    },
    {
     "data": {
      "image/png": "[encoded data removed]",
      "text/plain": [
       "<Figure size 432x288 with 1 Axes>"
      ]
     },
     "metadata": {
      "needs_background": "light"
     },
     "output_type": "display_data"
    }
   ],
   "source": [
    "# both images in one\n",
    "plt.scatter(x, y)\n",
    "plt.scatter(x, y_hat, color='red')"
   ]
  },
  {
   "cell_type": "markdown",
   "metadata": {},
   "source": [
    "We meassure the distances between every datapoint to the red line and square the result. Squaring ensures that we have a positive measure."
   ]
  },
  {
   "cell_type": "code",
   "execution_count": 9,
   "metadata": {},
   "outputs": [],
   "source": [
    "def squared_error(y, y_hat):\n",
    "    return [(y[i]-y_hat[i])**2 for i in range(len(y))]"
   ]
  },
  {
   "cell_type": "markdown",
   "metadata": {},
   "source": [
    "Now we want a line that fits the data. So we sum over the squared_error results and divide by the number of datapoints (100 in our case). The red line fits the data when this value is minimal. The below algorithm (Gradient Descent) Figures this out."
   ]
  },
  {
   "cell_type": "code",
   "execution_count": 10,
   "metadata": {},
   "outputs": [],
   "source": [
    "def train_linear_regression(x_data, y_data, weight, n_epochs, lr=0.2):\n",
    "    mse = [] #list to keep track of our errors\n",
    "    n_datapoints = x_data.shape[0] # number of datapoints\n",
    "    # an epoch is how often we see every data point ... n_epochs=5 then we see every datapoint 5 times\n",
    "    for epoch in range(n_epochs):\n",
    "        y_list = [] \n",
    "        y_hat_list = [] \n",
    "        # go through all datapoints\n",
    "        for i in range(n_datapoints):\n",
    "            y_ = y_data[i] # our actual y's\n",
    "            y_hat_ = weight * x_data[i] # our predicted outputs with the current weight value\n",
    "\n",
    "            y_list.append(y_)\n",
    "            y_hat_list.append(y_hat_)\n",
    "        \n",
    "        # the line below is where the magic happens (Derivative of the Mean Squared Error function)\n",
    "        weight = weight - lr*((2/n_datapoints)*sum([y_hat_list[i]-y_list[i] for i in range(n_datapoints)]*x_data))\n",
    "        \n",
    "        mse.append(sum(squared_error(y_list, y_hat_list))/n_datapoints)\n",
    "        print(epoch+1, \".Epoch -->\", \" weight: \", weight, \", MSE: \", mse[epoch])\n",
    "    \n",
    "    return mse, weight"
   ]
  },
  {
   "cell_type": "code",
   "execution_count": 11,
   "metadata": {},
   "outputs": [
    {
     "name": "stdout",
     "output_type": "stream",
     "text": [
      "1 .Epoch -->  weight:  -1.3590223178337983 , MSE:  7.965209482827219\n",
      "2 .Epoch -->  weight:  -0.803525419361282 , MSE:  6.047925724155761\n",
      "3 .Epoch -->  weight:  -0.3221095872690599 , MSE:  4.607921209617313\n",
      "4 .Epoch -->  weight:  0.09510462945534304 , MSE:  3.5263843778819854\n",
      "5 .Epoch -->  weight:  0.4566791582373796 , MSE:  2.7140800367563607\n",
      "6 .Epoch -->  weight:  0.7700341078610436 , MSE:  2.1039867664672443\n",
      "7 .Epoch -->  weight:  1.0416000414028959 , MSE:  1.6457671317718456\n",
      "8 .Epoch -->  weight:  1.2769499420476065 , MSE:  1.301614452426794\n",
      "9 .Epoch -->  weight:  1.4809135799423385 , MSE:  1.0431334583089586\n",
      "10 .Epoch -->  weight:  1.657676627087429 , MSE:  0.8489974589981483\n",
      "11 .Epoch -->  weight:  1.8108665542652502 , MSE:  0.7031887261083891\n",
      "12 .Epoch -->  weight:  1.9436270727546372 , MSE:  0.5936769062378263\n",
      "13 .Epoch -->  weight:  2.0586826484982796 , MSE:  0.511426423336847\n",
      "14 .Epoch -->  weight:  2.15839441266075 , MSE:  0.4496509734772763\n",
      "15 .Epoch -->  weight:  2.244808615954513 , MSE:  0.4032536020485074\n",
      "16 .Epoch -->  weight:  2.31969862109702 , MSE:  0.368406165398629\n",
      "17 .Epoch -->  weight:  2.384601295153722 , MSE:  0.34223347923834524\n",
      "18 .Epoch -->  weight:  2.4408485485982223 , MSE:  0.32257609359683587\n",
      "19 .Epoch -->  weight:  2.489594668323364 , MSE:  0.30781212142017134\n",
      "20 .Epoch -->  weight:  2.531840005521961 , MSE:  0.2967234202872474\n",
      "21 .Epoch -->  weight:  2.568451504551753 , MSE:  0.2883950861950405\n",
      "22 .Epoch -->  weight:  2.6001804940709317 , MSE:  0.2821399668695251\n",
      "23 .Epoch -->  weight:  2.6276781055478327 , MSE:  0.277441966363872\n",
      "24 .Epoch -->  weight:  2.6515086355581743 , MSE:  0.27391346313275294\n",
      "25 .Epoch -->  weight:  2.6721611260863365 , MSE:  0.27126332824301935\n",
      "26 .Epoch -->  weight:  2.6900594004776632 , MSE:  0.2692729049746364\n",
      "27 .Epoch -->  weight:  2.705570760996163 , MSE:  0.2677779679423111\n",
      "28 .Epoch -->  weight:  2.719013526475915 , MSE:  0.26665517322516874\n",
      "29 .Epoch -->  weight:  2.730663564751288 , MSE:  0.2658118815348949\n",
      "30 .Epoch -->  weight:  2.7407599539222565 , MSE:  0.2651785147546385\n",
      "31 .Epoch -->  weight:  2.749509888633385 , MSE:  0.2647028152037493\n",
      "32 .Epoch -->  weight:  2.757092932051437 , MSE:  0.26434553397307775\n",
      "33 .Epoch -->  weight:  2.763664700799258 , MSE:  0.26407719258500706\n",
      "34 .Epoch -->  weight:  2.7693600584668694 , MSE:  0.2638756507900009\n",
      "35 .Epoch -->  weight:  2.7742958832359284 , MSE:  0.2637242798239848\n",
      "36 .Epoch -->  weight:  2.7785734664137856 , MSE:  0.26361059040610507\n",
      "37 .Epoch -->  weight:  2.7822805910990436 , MSE:  0.26352520227601656\n",
      "38 .Epoch -->  weight:  2.7854933336362757 , MSE:  0.26346107024951865\n",
      "39 .Epoch -->  weight:  2.7882776248287424 , MSE:  0.2634129029361172\n",
      "40 .Epoch -->  weight:  2.7906906029477816 , MSE:  0.2633767261581949\n",
      "41 .Epoch -->  weight:  2.792781786304866 , MSE:  0.2633495550504787\n",
      "42 .Epoch -->  weight:  2.794594089449449 , MSE:  0.26332914778546146\n",
      "43 .Epoch -->  weight:  2.7961647038466713 , MSE:  0.26331382060521435\n",
      "44 .Epoch -->  weight:  2.7975258611078795 , MSE:  0.26330230889827394\n",
      "45 .Epoch -->  weight:  2.7987054944367333 , MSE:  0.2632936628593718\n",
      "46 .Epoch -->  weight:  2.799727811864851 , MSE:  0.2632871691231184\n",
      "47 .Epoch -->  weight:  2.800613793040755 , MSE:  0.263282291905816\n",
      "48 .Epoch -->  weight:  2.8013816197670405 , MSE:  0.2632786287991412\n",
      "49 .Epoch -->  weight:  2.8020470491211085 , MSE:  0.2632758775683308\n",
      "50 .Epoch -->  weight:  2.802623736816518 , MSE:  0.2632738112154661\n",
      "51 .Epoch -->  weight:  2.8031235174408677 , MSE:  0.2632722592503798\n",
      "52 .Epoch -->  weight:  2.803556647321154 , MSE:  0.2632710936238937\n",
      "53 .Epoch -->  weight:  2.8039320150006053 , MSE:  0.26327021816276563\n",
      "54 .Epoch -->  weight:  2.804257323646325 , MSE:  0.26326956063465\n",
      "55 .Epoch -->  weight:  2.8045392491310515 , MSE:  0.2632690667883685\n",
      "56 .Epoch -->  weight:  2.804783577033135 , MSE:  0.2632686958777657\n",
      "57 .Epoch -->  weight:  2.8049953213661967 , MSE:  0.2632684172998345\n",
      "58 .Epoch -->  weight:  2.805178827475001 , MSE:  0.26326820806973145\n",
      "59 .Epoch -->  weight:  2.8053378612091353 , MSE:  0.2632680509243473\n",
      "60 .Epoch -->  weight:  2.8054756862044856 , MSE:  0.26326793289796663\n",
      "61 .Epoch -->  weight:  2.805595130858456 , MSE:  0.26326784425249605\n",
      "62 .Epoch -->  weight:  2.8056986463733726 , MSE:  0.26326777767399556\n",
      "63 .Epoch -->  weight:  2.80578835705922 , MSE:  0.26326772766922135\n",
      "64 .Epoch -->  weight:  2.805866103928003 , MSE:  0.26326769011239115\n",
      "65 .Epoch -->  weight:  2.805933482474365 , MSE:  0.2632676619047747\n",
      "66 .Epoch -->  weight:  2.805991875417784 , MSE:  0.26326764071902414\n",
      "67 .Epoch -->  weight:  2.806042481078269 , MSE:  0.263267624807151\n",
      "68 .Epoch -->  weight:  2.8060863379678715 , MSE:  0.2632676128563017\n",
      "69 .Epoch -->  weight:  2.806124346102677 , MSE:  0.26326760388043824\n",
      "70 .Epoch -->  weight:  2.8061572854726244 , MSE:  0.26326759713898235\n",
      "71 .Epoch -->  weight:  2.806185832048196 , MSE:  0.26326759207571176\n",
      "72 .Epoch -->  weight:  2.806210571652449 , MSE:  0.26326758827286684\n",
      "73 .Epoch -->  weight:  2.806232011983079 , MSE:  0.2632675854166836\n",
      "74 .Epoch -->  weight:  2.806250593031216 , MSE:  0.2632675832715046\n",
      "75 .Epoch -->  weight:  2.8062666961107734 , MSE:  0.26326758166033587\n",
      "76 .Epoch -->  weight:  2.806280651683641 , MSE:  0.2632675804502437\n",
      "77 .Epoch -->  weight:  2.806292746141311 , MSE:  0.26326757954138597\n",
      "78 .Epoch -->  weight:  2.8063032276821063 , MSE:  0.26326757885877483\n",
      "79 .Epoch -->  weight:  2.806312311404621 , MSE:  0.26326757834608966\n",
      "80 .Epoch -->  weight:  2.806320183721901 , MSE:  0.2632675779610296\n",
      "81 .Epoch -->  weight:  2.8063270061869487 , MSE:  0.26326757767182474\n",
      "82 .Epoch -->  weight:  2.806332918808058 , MSE:  0.2632675774546131\n",
      "83 .Epoch -->  weight:  2.806338042922016 , MSE:  0.263267577291473\n",
      "84 .Epoch -->  weight:  2.806342483684136 , MSE:  0.2632675771689442\n",
      "85 .Epoch -->  weight:  2.8063463322262203 , MSE:  0.26326757707691717\n",
      "86 .Epoch -->  weight:  2.806349667526732 , MSE:  0.26326757700779874\n",
      "87 .Epoch -->  weight:  2.8063525580315676 , MSE:  0.26326757695588643\n",
      "88 .Epoch -->  weight:  2.806355063058678 , MSE:  0.2632675769168968\n",
      "89 .Epoch -->  weight:  2.8063572340153735 , MSE:  0.2632675768876132\n",
      "90 .Epoch -->  weight:  2.806359115453284 , MSE:  0.2632675768656194\n",
      "91 .Epoch -->  weight:  2.8063607459826345 , MSE:  0.2632675768491005\n",
      "92 .Epoch -->  weight:  2.806362159064591 , MSE:  0.26326757683669366\n",
      "93 .Epoch -->  weight:  2.8063633836979376 , MSE:  0.2632675768273754\n",
      "94 .Epoch -->  weight:  2.806364445014181 , MSE:  0.2632675768203768\n",
      "95 .Epoch -->  weight:  2.8063653647932902 , MSE:  0.2632675768151205\n",
      "96 .Epoch -->  weight:  2.8063661619106575 , MSE:  0.26326757681117263\n",
      "97 .Epoch -->  weight:  2.8063668527244525 , MSE:  0.2632675768082074\n",
      "98 .Epoch -->  weight:  2.80636745141132 , MSE:  0.26326757680598045\n",
      "99 .Epoch -->  weight:  2.8063679702573068 , MSE:  0.2632675768043076\n",
      "100 .Epoch -->  weight:  2.806368419909993 , MSE:  0.26326757680305135\n"
     ]
    }
   ],
   "source": [
    "mse, weight = train_linear_regression(x, y, w, 100)"
   ]
  },
  {
   "cell_type": "code",
   "execution_count": 12,
   "metadata": {},
   "outputs": [
    {
     "data": {
      "text/plain": [
       "<matplotlib.collections.PathCollection at 0x10ee3c748>"
      ]
     },
     "execution_count": 12,
     "metadata": {},
     "output_type": "execute_result"
    },
    {
     "data": {
      "image/png": "[encoded data removed]",
      "text/plain": [
       "<Figure size 432x288 with 1 Axes>"
      ]
     },
     "metadata": {
      "needs_background": "light"
     },
     "output_type": "display_data"
    }
   ],
   "source": [
    "plt.scatter(x, y)\n",
    "plt.scatter(x, x*weight, color='red')"
   ]
  },
  {
   "cell_type": "code",
   "execution_count": 13,
   "metadata": {},
   "outputs": [
    {
     "data": {
      "text/plain": [
       "[<matplotlib.lines.Line2D at 0x10efa6588>]"
      ]
     },
     "execution_count": 13,
     "metadata": {},
     "output_type": "execute_result"
    },
    {
     "data": {
      "image/png": "[encoded data removed]",
      "text/plain": [
       "<Figure size 432x288 with 1 Axes>"
      ]
     },
     "metadata": {
      "needs_background": "light"
     },
     "output_type": "display_data"
    }
   ],
   "source": [
    "plt.plot(mse)"
   ]
  },
  {
   "cell_type": "markdown",
   "metadata": {},
   "source": [
    "## 2. Learn Steepness m AND Bias b\n",
    "**Linear Function**\n",
    "$$k = m \\cdot x + b$$"
   ]
  },
  {
   "cell_type": "code",
   "execution_count": 14,
   "metadata": {},
   "outputs": [],
   "source": [
    "# the parameter we need to generate some test data and our Model will figure out without telling it\n",
    "m = 3\n",
    "b = 2"
   ]
  },
  {
   "cell_type": "code",
   "execution_count": 15,
   "metadata": {},
   "outputs": [],
   "source": [
    "# generate 100 random linear datapoints from x=-1 to x=1 --> the range(-1, 1)=2 and 2/0.02=100 datapoints\n",
    "x = np.arange(-1, 1, 0.02)\n",
    "noise = np.random.uniform(-1, 1, size=100)\n",
    "y = (m*x)+ b + noise"
   ]
  },
  {
   "cell_type": "code",
   "execution_count": 16,
   "metadata": {},
   "outputs": [
    {
     "data": {
      "text/plain": [
       "<matplotlib.collections.PathCollection at 0x10f016208>"
      ]
     },
     "execution_count": 16,
     "metadata": {},
     "output_type": "execute_result"
    },
    {
     "data": {
      "image/png": "[encoded data removed]",
      "text/plain": [
       "<Figure size 432x288 with 1 Axes>"
      ]
     },
     "metadata": {
      "needs_background": "light"
     },
     "output_type": "display_data"
    }
   ],
   "source": [
    "plt.scatter(x, y)"
   ]
  },
  {
   "cell_type": "code",
   "execution_count": 17,
   "metadata": {},
   "outputs": [],
   "source": [
    "w_m = -2\n",
    "w_b = 5"
   ]
  },
  {
   "cell_type": "code",
   "execution_count": 18,
   "metadata": {},
   "outputs": [],
   "source": [
    "y_hat = w_m*x + w_b"
   ]
  },
  {
   "cell_type": "code",
   "execution_count": 19,
   "metadata": {},
   "outputs": [
    {
     "data": {
      "text/plain": [
       "<matplotlib.collections.PathCollection at 0x10ef134a8>"
      ]
     },
     "execution_count": 19,
     "metadata": {},
     "output_type": "execute_result"
    },
    {
     "data": {
      "image/png": "[encoded data removed]",
      "text/plain": [
       "<Figure size 432x288 with 1 Axes>"
      ]
     },
     "metadata": {
      "needs_background": "light"
     },
     "output_type": "display_data"
    }
   ],
   "source": [
    "plt.scatter(x, y)\n",
    "plt.scatter(x, y_hat, color='red')"
   ]
  },
  {
   "cell_type": "code",
   "execution_count": 20,
   "metadata": {},
   "outputs": [],
   "source": [
    "def train_linear_regression_with_bias(x_data=x, y_data=y, weight_m=w_m, weight_b=w_b, n_epochs=100, lr=0.2):\n",
    "    mse = [] #list to keep track of our errors\n",
    "    n_datapoints = x_data.shape[0] # number of datapoints\n",
    "    # an epoch is how often we see every data point ... n_epochs=5 then we see every datapoint 5 times\n",
    "    for epoch in range(n_epochs):\n",
    "        y_list = [] \n",
    "        y_hat_list = [] \n",
    "        # go through all datapoints\n",
    "        for i in range(n_datapoints):\n",
    "            y_ = y_data[i] # our actual y's\n",
    "            y_hat_ = weight_m * x_data[i] + weight_b# our predicted outputs with the current weight value\n",
    "\n",
    "            y_list.append(y_)\n",
    "            y_hat_list.append(y_hat_)\n",
    "        \n",
    "        # the line below is where the magic happens (Derivative of the Mean Squared Error function)\n",
    "        weight_m = weight_m - lr*((2/n_datapoints)*sum([y_hat_list[i]-y_list[i] for i in range(n_datapoints)]*x_data))\n",
    "        # the only changing line below (Derivative with respect to Bias b)\n",
    "        weight_b = weight_b - lr*((2/n_datapoints)*sum([y_hat_list[i]-y_list[i] for i in range(n_datapoints)]))\n",
    "        \n",
    "        mse.append(sum(squared_error(y_list, y_hat_list))/n_datapoints)\n",
    "        #print(epoch+1, \".Epoch -->\", \" m: \", weight_m, \", b: \", weight_b, \", MSE: \", mse[epoch])\n",
    "    \n",
    "    return mse, weight_m, weight_b"
   ]
  },
  {
   "cell_type": "code",
   "execution_count": 21,
   "metadata": {},
   "outputs": [],
   "source": [
    "mse, weight_m, weight_b = train_linear_regression_with_bias(x, y, w_m, w_b, 100)"
   ]
  },
  {
   "cell_type": "code",
   "execution_count": 22,
   "metadata": {},
   "outputs": [
    {
     "data": {
      "text/plain": [
       "[<matplotlib.lines.Line2D at 0x10f224e80>]"
      ]
     },
     "execution_count": 22,
     "metadata": {},
     "output_type": "execute_result"
    },
    {
     "data": {
      "image/png": "[encoded data removed]",
      "text/plain": [
       "<Figure size 432x288 with 1 Axes>"
      ]
     },
     "metadata": {
      "needs_background": "light"
     },
     "output_type": "display_data"
    }
   ],
   "source": [
    "plt.plot(mse)"
   ]
  },
  {
   "cell_type": "code",
   "execution_count": 23,
   "metadata": {},
   "outputs": [
    {
     "data": {
      "text/plain": [
       "<matplotlib.collections.PathCollection at 0x10f25f0b8>"
      ]
     },
     "execution_count": 23,
     "metadata": {},
     "output_type": "execute_result"
    },
    {
     "data": {
      "image/png": "[encoded data removed]",
      "text/plain": [
       "<Figure size 432x288 with 1 Axes>"
      ]
     },
     "metadata": {
      "needs_background": "light"
     },
     "output_type": "display_data"
    }
   ],
   "source": [
    "plt.scatter(x, y)\n",
    "plt.scatter(x, x*weight_m + weight_b, color='red')"
   ]
  },
  {
   "cell_type": "markdown",
   "metadata": {},
   "source": [
    "## 3. Learn Steepness m and Bias b WITH Vectorization"
   ]
  },
  {
   "cell_type": "code",
   "execution_count": 24,
   "metadata": {},
   "outputs": [],
   "source": [
    "# the parameter we need to generate some test data and our Model will figure out without telling it\n",
    "m = 3\n",
    "b = 2"
   ]
  },
  {
   "cell_type": "code",
   "execution_count": 25,
   "metadata": {},
   "outputs": [],
   "source": [
    "# generate 100 random linear datapoints from x=-1 to x=1 --> the range(-1, 1)=2 and 2/0.02=100 datapoints\n",
    "x = np.arange(-1, 1, 0.02)\n",
    "noise = np.random.uniform(-1, 1, size=100)\n",
    "y = (m*x)+ b + noise"
   ]
  },
  {
   "cell_type": "code",
   "execution_count": 26,
   "metadata": {},
   "outputs": [
    {
     "data": {
      "text/plain": [
       "<matplotlib.collections.PathCollection at 0x10f3c29e8>"
      ]
     },
     "execution_count": 26,
     "metadata": {},
     "output_type": "execute_result"
    },
    {
     "data": {
      "image/png": "[encoded data removed]",
      "text/plain": [
       "<Figure size 432x288 with 1 Axes>"
      ]
     },
     "metadata": {
      "needs_background": "light"
     },
     "output_type": "display_data"
    }
   ],
   "source": [
    "plt.scatter(x, y)"
   ]
  },
  {
   "cell_type": "code",
   "execution_count": 27,
   "metadata": {},
   "outputs": [],
   "source": [
    "w_m = -2\n",
    "w_b = 5"
   ]
  },
  {
   "cell_type": "code",
   "execution_count": 28,
   "metadata": {},
   "outputs": [],
   "source": [
    "y_hat = w_m*x + w_b"
   ]
  },
  {
   "cell_type": "code",
   "execution_count": 29,
   "metadata": {},
   "outputs": [
    {
     "data": {
      "text/plain": [
       "<matplotlib.collections.PathCollection at 0x10f3c2e80>"
      ]
     },
     "execution_count": 29,
     "metadata": {},
     "output_type": "execute_result"
    },
    {
     "data": {
      "image/png": "[encoded data removed]",
      "text/plain": [
       "<Figure size 432x288 with 1 Axes>"
      ]
     },
     "metadata": {
      "needs_background": "light"
     },
     "output_type": "display_data"
    }
   ],
   "source": [
    "plt.scatter(x, y)\n",
    "plt.scatter(x, y_hat, color='red')"
   ]
  },
  {
   "cell_type": "code",
   "execution_count": 30,
   "metadata": {},
   "outputs": [],
   "source": [
    "# now we assume y and y_hat are numpy arrays\n",
    "def mean_squared_error(y_hat, y):\n",
    "    return ((y_hat-y)**2).mean()"
   ]
  },
  {
   "cell_type": "code",
   "execution_count": 31,
   "metadata": {},
   "outputs": [
    {
     "data": {
      "text/plain": [
       "0.0"
      ]
     },
     "execution_count": 31,
     "metadata": {},
     "output_type": "execute_result"
    }
   ],
   "source": [
    "# some test\n",
    "mean_squared_error(x, x)"
   ]
  },
  {
   "cell_type": "code",
   "execution_count": 32,
   "metadata": {},
   "outputs": [],
   "source": [
    "def train_linear_regression_vectorized(x_data=x, y_data=y, weight_m=w_m, weight_b=w_b, n_epochs=100, lr=0.1):\n",
    "    mse = []\n",
    "    n_datapoints = x_data.shape[0]\n",
    "    for epoch in range(n_epochs):\n",
    "        y_hat = weight_m*x + weight_b\n",
    "        \n",
    "        mse.append(mean_squared_error(y_hat, y_data))\n",
    "        \n",
    "        weight_m = weight_m - lr*((2/n_datapoints) * (x_data.T@(y_hat - y_data)))\n",
    "        weight_b = weight_b - lr*((2/n_datapoints) * (y_hat - y_data).sum())\n",
    "        \n",
    "        #print('weight_m: ', weight_m, ', weight_b: ', weight_b, ', MSE: ', mse[epoch])\n",
    "    \n",
    "    return mse, weight_m, weight_b"
   ]
  },
  {
   "cell_type": "code",
   "execution_count": 33,
   "metadata": {},
   "outputs": [],
   "source": [
    "mse, weight_m, weight_b = train_linear_regression_vectorized()"
   ]
  },
  {
   "cell_type": "code",
   "execution_count": 34,
   "metadata": {},
   "outputs": [
    {
     "data": {
      "text/plain": [
       "[<matplotlib.lines.Line2D at 0x10f569710>]"
      ]
     },
     "execution_count": 34,
     "metadata": {},
     "output_type": "execute_result"
    },
    {
     "data": {
      "image/png": "[encoded data removed]",
      "text/plain": [
       "<Figure size 432x288 with 1 Axes>"
      ]
     },
     "metadata": {
      "needs_background": "light"
     },
     "output_type": "display_data"
    }
   ],
   "source": [
    "plt.plot(mse)"
   ]
  },
  {
   "cell_type": "code",
   "execution_count": 35,
   "metadata": {},
   "outputs": [
    {
     "data": {
      "text/plain": [
       "<matplotlib.collections.PathCollection at 0x10f5a1588>"
      ]
     },
     "execution_count": 35,
     "metadata": {},
     "output_type": "execute_result"
    },
    {
     "data": {
      "image/png": "[encoded data removed]",
      "text/plain": [
       "<Figure size 432x288 with 1 Axes>"
      ]
     },
     "metadata": {
      "needs_background": "light"
     },
     "output_type": "display_data"
    }
   ],
   "source": [
    "plt.scatter(x, y)\n",
    "plt.scatter(x, x*weight_m + weight_b, color='red')"
   ]
  },
  {
   "cell_type": "markdown",
   "metadata": {},
   "source": [
    "## 4. Compare Vectorized vs non-Vectorized"
   ]
  },
  {
   "cell_type": "code",
   "execution_count": 36,
   "metadata": {},
   "outputs": [],
   "source": [
    "# generate 1000 random linear datapoints from x=-1 to x=1 --> the range(-1, 1)=2 and 2/0.002=1000 datapoints\n",
    "x = np.arange(-1, 1, 0.00002)\n",
    "noise = np.random.uniform(-1, 1, size=100000)\n",
    "y = (m*x)+ b + noise"
   ]
  },
  {
   "cell_type": "code",
   "execution_count": 37,
   "metadata": {},
   "outputs": [
    {
     "name": "stdout",
     "output_type": "stream",
     "text": [
      "CPU times: user 3min 6s, sys: 4.14 s, total: 3min 10s\n",
      "Wall time: 3min 23s\n"
     ]
    }
   ],
   "source": [
    "%time mse, m, b = train_linear_regression_with_bias(x, y, n_epochs=1000)"
   ]
  },
  {
   "cell_type": "code",
   "execution_count": 38,
   "metadata": {},
   "outputs": [
    {
     "name": "stdout",
     "output_type": "stream",
     "text": [
      "CPU times: user 1.87 s, sys: 196 ms, total: 2.07 s\n",
      "Wall time: 1.35 s\n"
     ]
    }
   ],
   "source": [
    "%time mse, m, b = train_linear_regression_vectorized(x, y, n_epochs=1000)"
   ]
  },
  {
   "cell_type": "code",
   "execution_count": 39,
   "metadata": {},
   "outputs": [
    {
     "data": {
      "text/plain": [
       "217.50663129973475"
      ]
     },
     "execution_count": 39,
     "metadata": {},
     "output_type": "execute_result"
    }
   ],
   "source": [
    "(2*60+44)/754e-3"
   ]
  },
  {
   "cell_type": "code",
   "execution_count": null,
   "metadata": {},
   "outputs": [],
   "source": []
  },
  {
   "cell_type": "code",
   "execution_count": null,
   "metadata": {},
   "outputs": [],
   "source": []
  },
  {
   "cell_type": "code",
   "execution_count": null,
   "metadata": {},
   "outputs": [],
   "source": []
  },
  {
   "cell_type": "code",
   "execution_count": null,
   "metadata": {},
   "outputs": [],
   "source": []
  },
  {
   "cell_type": "code",
   "execution_count": null,
   "metadata": {},
   "outputs": [],
   "source": []
  },
  {
   "cell_type": "code",
   "execution_count": null,
   "metadata": {},
   "outputs": [],
   "source": []
  },
  {
   "cell_type": "code",
   "execution_count": null,
   "metadata": {},
   "outputs": [],
   "source": []
  },
  {
   "cell_type": "code",
   "execution_count": null,
   "metadata": {},
   "outputs": [],
   "source": []
  },
  {
   "cell_type": "code",
   "execution_count": null,
   "metadata": {},
   "outputs": [],
   "source": []
  },
  {
   "cell_type": "code",
   "execution_count": null,
   "metadata": {},
   "outputs": [],
   "source": []
  }
 ],
 "metadata": {
  "kernelspec": {
   "display_name": "Python 3",
   "language": "python",
   "name": "python3"
  },
  "language_info": {
   "codemirror_mode": {
    "name": "ipython",
    "version": 3
   },
   "file_extension": ".py",
   "mimetype": "text/x-python",
   "name": "python",
   "nbconvert_exporter": "python",
   "pygments_lexer": "ipython3",
   "version": "3.6.8"
  }
 },
 "nbformat": 4,
 "nbformat_minor": 2
}
